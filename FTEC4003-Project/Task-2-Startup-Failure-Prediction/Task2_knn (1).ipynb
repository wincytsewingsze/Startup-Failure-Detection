{
 "cells": [
  {
   "cell_type": "code",
   "execution_count": 1,
   "metadata": {},
   "outputs": [],
   "source": [
    "import numpy as np\n",
    "import pandas as pd\n",
    "from sklearn.neighbors import KNeighborsClassifier\n",
    "from sklearn.preprocessing import StandardScaler\n",
    "from sklearn.metrics import f1_score\n",
    "from matplotlib import pyplot as plt"
   ]
  },
  {
   "cell_type": "code",
   "execution_count": 2,
   "metadata": {},
   "outputs": [
    {
     "name": "stdout",
     "output_type": "stream",
     "text": [
      "# startup failed = 1309\n",
      "# startup succeed = 4935\n",
      "% startup failed = 21%\n"
     ]
    }
   ],
   "source": [
    "# Loading Dataset\n",
    "df = pd.read_csv(\"train.csv\")\n",
    "\n",
    "# Some basic stats on the target variable\n",
    "print('# startup failed = {}'.format(len(df[df['failure'] == 1])))\n",
    "print('# startup succeed = {}'.format(len(df[df['failure'] == 0])))\n",
    "print('% startup failed = {}%'.format(round(float(len(df[df['failure'] == 1])) / len(df) * 100), 3))\n"
   ]
  },
  {
   "cell_type": "code",
   "execution_count": 3,
   "metadata": {},
   "outputs": [],
   "source": [
    "# Prepend string prior to encoding\n",
    "df['attr1'] = '1_' + df['attr1'].astype(str)\n",
    "df['attr4'] = '4_' + df['attr4'].astype(str)\n",
    "\n",
    "# Create 'attr1' dummies and join\n",
    "one_hot_attr1 = pd.get_dummies(df['attr1'])\n",
    "df = df.join(one_hot_attr1)\n",
    "\n",
    "# Create 'attr4' dummies and join\n",
    "one_hot_attr4 = pd.get_dummies(df['attr4'])\n",
    "df = df.join(one_hot_attr4)\n",
    "\n",
    "df = df.drop(['index', 'attr1', 'attr4', 'attr10', 'attr12'], axis=1)"
   ]
  },
  {
   "cell_type": "code",
   "execution_count": 4,
   "metadata": {},
   "outputs": [],
   "source": [
    "# Randomly, split the data into test/training/validation sets\n",
    "train, test, validate = np.split(df.sample(frac=1), [int(.6*len(df)), int(.8*len(df))])\n",
    "\n",
    "# Separate target and predictors\n",
    "y_train = train['failure']\n",
    "x_train = train.drop(['failure'], axis=1)\n",
    "y_test = test['failure']\n",
    "x_test = test.drop(['failure'], axis=1)\n",
    "y_validate = validate['failure']\n",
    "x_validate = validate.drop(['failure'], axis=1)"
   ]
  },
  {
   "cell_type": "code",
   "execution_count": 5,
   "metadata": {},
   "outputs": [],
   "source": [
    "def trainModel(n):\n",
    "    knn_model = KNeighborsClassifier(n_neighbors=n)\n",
    "    model = knn_model.fit(x_train, y_train)\n",
    "    return model"
   ]
  },
  {
   "cell_type": "code",
   "execution_count": 6,
   "metadata": {},
   "outputs": [],
   "source": [
    "nScore = []\n",
    "\n",
    "for n in range(2,10):\n",
    "    model = trainModel(n)\n",
    "    prediction = model.predict(x_test)\n",
    "    nScore.append(f1_score(y_test,prediction))"
   ]
  },
  {
   "cell_type": "code",
   "execution_count": 7,
   "metadata": {},
   "outputs": [
    {
     "data": {
      "image/png": "[encoded data removed]",
      "text/plain": [
       "<Figure size 432x288 with 1 Axes>"
      ]
     },
     "metadata": {
      "needs_background": "light"
     },
     "output_type": "display_data"
    }
   ],
   "source": [
    "plt.plot(nScore)\n",
    "plt.ylabel(\"f1 score\")\n",
    "plt.xlabel(\"n_neighbors\")\n",
    "plt.show()"
   ]
  },
  {
   "cell_type": "code",
   "execution_count": 8,
   "metadata": {},
   "outputs": [],
   "source": [
    "asm_test_ori = pd.read_csv('assignment-test.csv')\n",
    "\n",
    "# Prepend string prior to encoding\n",
    "asm_test_ori['attr1'] = '1_' + asm_test_ori['attr1'].astype(str)\n",
    "asm_test_ori['attr4'] = '4_' + asm_test_ori['attr4'].astype(str)\n",
    "\n",
    "# Create 'attr1' dummies and join\n",
    "one_hot_attr1 = pd.get_dummies(asm_test_ori['attr1'])\n",
    "asm_test_ori = asm_test_ori.join(one_hot_attr1)\n",
    "\n",
    "# Create 'attr4' dummies and join\n",
    "one_hot_attr4 = pd.get_dummies(asm_test_ori['attr4'])\n",
    "asm_test_ori = asm_test_ori.join(one_hot_attr4)\n",
    "\n",
    "asm_test = asm_test_ori.drop(['index', 'attr1', 'attr4', 'attr17'], axis=1)"
   ]
  },
  {
   "cell_type": "code",
   "execution_count": 9,
   "metadata": {},
   "outputs": [],
   "source": [
    "scaler = StandardScaler()\n",
    "scaler.fit(asm_test)\n",
    "asm_test = scaler.transform(asm_test)"
   ]
  },
  {
   "cell_type": "code",
   "execution_count": 10,
   "metadata": {},
   "outputs": [
    {
     "name": "stdout",
     "output_type": "stream",
     "text": [
      "      attr2   attr3   attr5   attr6   attr7    attr8    attr9   attr11  \\\n",
      "0         1  7370.0  1.0765  0.3440  0.9668  12.2879  -3.2781   6.0656   \n",
      "1         1  7311.0  0.9491  0.4979  0.9931  26.4671  12.5153  14.4181   \n",
      "2         1  7311.0  1.1346  0.4562  0.9971   9.7338   9.7510  12.5399   \n",
      "3         0  3663.0  1.4592  0.2219  0.3824  29.2791   2.0565   2.0565   \n",
      "4         1  6798.0  1.1802  0.6234  1.6704  65.4186  30.7321  60.0642   \n",
      "...     ...     ...     ...     ...     ...      ...      ...      ...   \n",
      "6239      0  1400.0  3.7870  0.4209  0.7317  17.6237   9.3959  19.5152   \n",
      "6240      1  4011.0  0.7914  0.3449  0.6053  51.2813  36.6242  45.8913   \n",
      "6241      1  3823.0  1.1467  0.2896  0.5483  55.8451  25.3078  30.5575   \n",
      "6242      0  1600.0  1.7069  0.5589  1.2902  11.4641   2.9564   9.3495   \n",
      "6243      1  3672.0  1.2652  0.5098  1.0649   6.5853   2.4047   4.5152   \n",
      "\n",
      "       attr13  attr14  ...  4_C  4_D  4_E  4_F  4_G  4_H  4_I  4_J  4_K  4_L  \n",
      "0     -4.1982  1.3114  ...    0    0    0    0    0    0    0    0    0    0  \n",
      "1      6.6235  0.6600  ...    0    0    0    0    0    0    1    0    0    0  \n",
      "2      6.2549  0.5155  ...    0    0    0    0    0    0    1    0    0    0  \n",
      "3     -3.8490  1.0678  ...    0    0    0    0    0    0    0    0    0    0  \n",
      "4      2.7479  0.1391  ...    0    0    0    0    1    0    0    0    0    0  \n",
      "...       ...     ...  ...  ...  ...  ...  ...  ...  ...  ...  ...  ...  ...  \n",
      "6239   4.8073  0.5444  ...    0    0    0    0    0    0    1    0    0    0  \n",
      "6240  24.6997  0.3506  ...    0    0    0    0    0    0    1    0    0    0  \n",
      "6241  16.1471  0.4233  ...    0    0    0    0    0    0    0    0    0    0  \n",
      "6242   1.2760  0.9033  ...    0    0    0    0    0    0    1    0    0    0  \n",
      "6243   1.8186  1.9717  ...    0    0    0    0    0    0    0    0    0    0  \n",
      "\n",
      "[6244 rows x 35 columns]\n"
     ]
    }
   ],
   "source": [
    "y = df['failure']\n",
    "X = df.drop(['failure'], axis=1)\n",
    "print(X)"
   ]
  },
  {
   "cell_type": "code",
   "execution_count": 11,
   "metadata": {},
   "outputs": [
    {
     "name": "stderr",
     "output_type": "stream",
     "text": [
      "/Users/me/Library/Python/3.8/lib/python/site-packages/sklearn/base.py:450: UserWarning: X does not have valid feature names, but KNeighborsClassifier was fitted with feature names\n",
      "  warnings.warn(\n"
     ]
    },
    {
     "ename": "ValueError",
     "evalue": "X has 36 features, but KNeighborsClassifier is expecting 35 features as input.",
     "output_type": "error",
     "traceback": [
      "\u001b[0;31m---------------------------------------------------------------------------\u001b[0m",
      "\u001b[0;31mValueError\u001b[0m                                Traceback (most recent call last)",
      "\u001b[1;32m/Users/me/Desktop/FTEC4003/FTEC4003-Project/Task-2-Startup-Failure-Prediction/code(blocked)/Task2_knn.ipynb Cell 11'\u001b[0m in \u001b[0;36m<cell line: 4>\u001b[0;34m()\u001b[0m\n\u001b[1;32m      <a href='vscode-notebook-cell:/Users/me/Desktop/FTEC4003/FTEC4003-Project/Task-2-Startup-Failure-Prediction/code%28blocked%29/Task2_knn.ipynb#ch0000010?line=0'>1</a>\u001b[0m knn \u001b[39m=\u001b[39m KNeighborsClassifier()\n\u001b[1;32m      <a href='vscode-notebook-cell:/Users/me/Desktop/FTEC4003/FTEC4003-Project/Task-2-Startup-Failure-Prediction/code%28blocked%29/Task2_knn.ipynb#ch0000010?line=1'>2</a>\u001b[0m knn_model \u001b[39m=\u001b[39m knn\u001b[39m.\u001b[39mfit(X, y)\n\u001b[0;32m----> <a href='vscode-notebook-cell:/Users/me/Desktop/FTEC4003/FTEC4003-Project/Task-2-Startup-Failure-Prediction/code%28blocked%29/Task2_knn.ipynb#ch0000010?line=3'>4</a>\u001b[0m prediction \u001b[39m=\u001b[39m pd\u001b[39m.\u001b[39mDataFrame(knn_model\u001b[39m.\u001b[39;49mpredict(asm_test))\n",
      "File \u001b[0;32m~/Library/Python/3.8/lib/python/site-packages/sklearn/neighbors/_classification.py:226\u001b[0m, in \u001b[0;36mKNeighborsClassifier.predict\u001b[0;34m(self, X)\u001b[0m\n\u001b[1;32m    <a href='file:///Users/me/Library/Python/3.8/lib/python/site-packages/sklearn/neighbors/_classification.py?line=209'>210</a>\u001b[0m \u001b[39m\"\"\"Predict the class labels for the provided data.\u001b[39;00m\n\u001b[1;32m    <a href='file:///Users/me/Library/Python/3.8/lib/python/site-packages/sklearn/neighbors/_classification.py?line=210'>211</a>\u001b[0m \n\u001b[1;32m    <a href='file:///Users/me/Library/Python/3.8/lib/python/site-packages/sklearn/neighbors/_classification.py?line=211'>212</a>\u001b[0m \u001b[39mParameters\u001b[39;00m\n\u001b[0;32m   (...)\u001b[0m\n\u001b[1;32m    <a href='file:///Users/me/Library/Python/3.8/lib/python/site-packages/sklearn/neighbors/_classification.py?line=220'>221</a>\u001b[0m \u001b[39m    Class labels for each data sample.\u001b[39;00m\n\u001b[1;32m    <a href='file:///Users/me/Library/Python/3.8/lib/python/site-packages/sklearn/neighbors/_classification.py?line=221'>222</a>\u001b[0m \u001b[39m\"\"\"\u001b[39;00m\n\u001b[1;32m    <a href='file:///Users/me/Library/Python/3.8/lib/python/site-packages/sklearn/neighbors/_classification.py?line=222'>223</a>\u001b[0m \u001b[39mif\u001b[39;00m \u001b[39mself\u001b[39m\u001b[39m.\u001b[39mweights \u001b[39m==\u001b[39m \u001b[39m\"\u001b[39m\u001b[39muniform\u001b[39m\u001b[39m\"\u001b[39m:\n\u001b[1;32m    <a href='file:///Users/me/Library/Python/3.8/lib/python/site-packages/sklearn/neighbors/_classification.py?line=223'>224</a>\u001b[0m     \u001b[39m# In that case, we do not need the distances to perform\u001b[39;00m\n\u001b[1;32m    <a href='file:///Users/me/Library/Python/3.8/lib/python/site-packages/sklearn/neighbors/_classification.py?line=224'>225</a>\u001b[0m     \u001b[39m# the weighting so we do not compute them.\u001b[39;00m\n\u001b[0;32m--> <a href='file:///Users/me/Library/Python/3.8/lib/python/site-packages/sklearn/neighbors/_classification.py?line=225'>226</a>\u001b[0m     neigh_ind \u001b[39m=\u001b[39m \u001b[39mself\u001b[39;49m\u001b[39m.\u001b[39;49mkneighbors(X, return_distance\u001b[39m=\u001b[39;49m\u001b[39mFalse\u001b[39;49;00m)\n\u001b[1;32m    <a href='file:///Users/me/Library/Python/3.8/lib/python/site-packages/sklearn/neighbors/_classification.py?line=226'>227</a>\u001b[0m     neigh_dist \u001b[39m=\u001b[39m \u001b[39mNone\u001b[39;00m\n\u001b[1;32m    <a href='file:///Users/me/Library/Python/3.8/lib/python/site-packages/sklearn/neighbors/_classification.py?line=227'>228</a>\u001b[0m \u001b[39melse\u001b[39;00m:\n",
      "File \u001b[0;32m~/Library/Python/3.8/lib/python/site-packages/sklearn/neighbors/_base.py:745\u001b[0m, in \u001b[0;36mKNeighborsMixin.kneighbors\u001b[0;34m(self, X, n_neighbors, return_distance)\u001b[0m\n\u001b[1;32m    <a href='file:///Users/me/Library/Python/3.8/lib/python/site-packages/sklearn/neighbors/_base.py?line=742'>743</a>\u001b[0m         X \u001b[39m=\u001b[39m _check_precomputed(X)\n\u001b[1;32m    <a href='file:///Users/me/Library/Python/3.8/lib/python/site-packages/sklearn/neighbors/_base.py?line=743'>744</a>\u001b[0m     \u001b[39melse\u001b[39;00m:\n\u001b[0;32m--> <a href='file:///Users/me/Library/Python/3.8/lib/python/site-packages/sklearn/neighbors/_base.py?line=744'>745</a>\u001b[0m         X \u001b[39m=\u001b[39m \u001b[39mself\u001b[39;49m\u001b[39m.\u001b[39;49m_validate_data(X, accept_sparse\u001b[39m=\u001b[39;49m\u001b[39m\"\u001b[39;49m\u001b[39mcsr\u001b[39;49m\u001b[39m\"\u001b[39;49m, reset\u001b[39m=\u001b[39;49m\u001b[39mFalse\u001b[39;49;00m, order\u001b[39m=\u001b[39;49m\u001b[39m\"\u001b[39;49m\u001b[39mC\u001b[39;49m\u001b[39m\"\u001b[39;49m)\n\u001b[1;32m    <a href='file:///Users/me/Library/Python/3.8/lib/python/site-packages/sklearn/neighbors/_base.py?line=746'>747</a>\u001b[0m n_samples_fit \u001b[39m=\u001b[39m \u001b[39mself\u001b[39m\u001b[39m.\u001b[39mn_samples_fit_\n\u001b[1;32m    <a href='file:///Users/me/Library/Python/3.8/lib/python/site-packages/sklearn/neighbors/_base.py?line=747'>748</a>\u001b[0m \u001b[39mif\u001b[39;00m n_neighbors \u001b[39m>\u001b[39m n_samples_fit:\n",
      "File \u001b[0;32m~/Library/Python/3.8/lib/python/site-packages/sklearn/base.py:600\u001b[0m, in \u001b[0;36mBaseEstimator._validate_data\u001b[0;34m(self, X, y, reset, validate_separately, **check_params)\u001b[0m\n\u001b[1;32m    <a href='file:///Users/me/Library/Python/3.8/lib/python/site-packages/sklearn/base.py?line=596'>597</a>\u001b[0m     out \u001b[39m=\u001b[39m X, y\n\u001b[1;32m    <a href='file:///Users/me/Library/Python/3.8/lib/python/site-packages/sklearn/base.py?line=598'>599</a>\u001b[0m \u001b[39mif\u001b[39;00m \u001b[39mnot\u001b[39;00m no_val_X \u001b[39mand\u001b[39;00m check_params\u001b[39m.\u001b[39mget(\u001b[39m\"\u001b[39m\u001b[39mensure_2d\u001b[39m\u001b[39m\"\u001b[39m, \u001b[39mTrue\u001b[39;00m):\n\u001b[0;32m--> <a href='file:///Users/me/Library/Python/3.8/lib/python/site-packages/sklearn/base.py?line=599'>600</a>\u001b[0m     \u001b[39mself\u001b[39;49m\u001b[39m.\u001b[39;49m_check_n_features(X, reset\u001b[39m=\u001b[39;49mreset)\n\u001b[1;32m    <a href='file:///Users/me/Library/Python/3.8/lib/python/site-packages/sklearn/base.py?line=601'>602</a>\u001b[0m \u001b[39mreturn\u001b[39;00m out\n",
      "File \u001b[0;32m~/Library/Python/3.8/lib/python/site-packages/sklearn/base.py:400\u001b[0m, in \u001b[0;36mBaseEstimator._check_n_features\u001b[0;34m(self, X, reset)\u001b[0m\n\u001b[1;32m    <a href='file:///Users/me/Library/Python/3.8/lib/python/site-packages/sklearn/base.py?line=396'>397</a>\u001b[0m     \u001b[39mreturn\u001b[39;00m\n\u001b[1;32m    <a href='file:///Users/me/Library/Python/3.8/lib/python/site-packages/sklearn/base.py?line=398'>399</a>\u001b[0m \u001b[39mif\u001b[39;00m n_features \u001b[39m!=\u001b[39m \u001b[39mself\u001b[39m\u001b[39m.\u001b[39mn_features_in_:\n\u001b[0;32m--> <a href='file:///Users/me/Library/Python/3.8/lib/python/site-packages/sklearn/base.py?line=399'>400</a>\u001b[0m     \u001b[39mraise\u001b[39;00m \u001b[39mValueError\u001b[39;00m(\n\u001b[1;32m    <a href='file:///Users/me/Library/Python/3.8/lib/python/site-packages/sklearn/base.py?line=400'>401</a>\u001b[0m         \u001b[39mf\u001b[39m\u001b[39m\"\u001b[39m\u001b[39mX has \u001b[39m\u001b[39m{\u001b[39;00mn_features\u001b[39m}\u001b[39;00m\u001b[39m features, but \u001b[39m\u001b[39m{\u001b[39;00m\u001b[39mself\u001b[39m\u001b[39m.\u001b[39m\u001b[39m__class__\u001b[39m\u001b[39m.\u001b[39m\u001b[39m__name__\u001b[39m\u001b[39m}\u001b[39;00m\u001b[39m \u001b[39m\u001b[39m\"\u001b[39m\n\u001b[1;32m    <a href='file:///Users/me/Library/Python/3.8/lib/python/site-packages/sklearn/base.py?line=401'>402</a>\u001b[0m         \u001b[39mf\u001b[39m\u001b[39m\"\u001b[39m\u001b[39mis expecting \u001b[39m\u001b[39m{\u001b[39;00m\u001b[39mself\u001b[39m\u001b[39m.\u001b[39mn_features_in_\u001b[39m}\u001b[39;00m\u001b[39m features as input.\u001b[39m\u001b[39m\"\u001b[39m\n\u001b[1;32m    <a href='file:///Users/me/Library/Python/3.8/lib/python/site-packages/sklearn/base.py?line=402'>403</a>\u001b[0m     )\n",
      "\u001b[0;31mValueError\u001b[0m: X has 36 features, but KNeighborsClassifier is expecting 35 features as input."
     ]
    }
   ],
   "source": [
    "knn = KNeighborsClassifier()\n",
    "knn_model = knn.fit(X, y)\n",
    "\n",
    "prediction = pd.DataFrame(knn_model.predict(asm_test))"
   ]
  },
  {
   "cell_type": "code",
   "execution_count": null,
   "metadata": {},
   "outputs": [],
   "source": [
    "df_output = asm_test_ori[[\"index\"]]\n",
    "df_output2 = df_output.assign(failure = prediction)\n",
    "df_output2 = df_output2.set_index(\"index\",drop=True)\n",
    "df_output2.to_csv(\"knn.csv\")"
   ]
  }
 ],
 "metadata": {
  "interpreter": {
   "hash": "31f2aee4e71d21fbe5cf8b01ff0e069b9275f58929596ceb00d14d90e3e16cd6"
  },
  "kernelspec": {
   "display_name": "Python 3.8.2 64-bit",
   "language": "python",
   "name": "python3"
  },
  "language_info": {
   "codemirror_mode": {
    "name": "ipython",
    "version": 3
   },
   "file_extension": ".py",
   "mimetype": "text/x-python",
   "name": "python",
   "nbconvert_exporter": "python",
   "pygments_lexer": "ipython3",
   "version": "3.9.6 (default, Aug  5 2022, 15:21:02) \n[Clang 14.0.0 (clang-1400.0.29.102)]"
  },
  "orig_nbformat": 4
 },
 "nbformat": 4,
 "nbformat_minor": 2
}
