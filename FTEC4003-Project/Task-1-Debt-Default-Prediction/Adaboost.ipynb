{
 "cells": [
  {
   "cell_type": "code",
   "execution_count": 1,
   "metadata": {},
   "outputs": [],
   "source": [
    "import pandas as pd\n",
    "from sklearn.ensemble import AdaBoostClassifier \n",
    "from sklearn import metrics, preprocessing"
   ]
  },
  {
   "cell_type": "code",
   "execution_count": 2,
   "metadata": {},
   "outputs": [],
   "source": [
    "data = pd.read_csv(\"train.csv\")\n",
    "data_test = pd.read_csv(\"assignment-test.csv\")\n",
    "df = pd.DataFrame(data)\n",
    "df_test = pd.DataFrame(data_test)\n"
   ]
  },
  {
   "cell_type": "code",
   "execution_count": 3,
   "metadata": {},
   "outputs": [],
   "source": [
    "columns_included = ['EA1', 'EA2', 'EA3', 'EA4', 'EA5', 'EA6']\n",
    "df_dataArray = df[columns_included].copy()  \n",
    "dataArray = preprocessing.scale(df_dataArray.values)\n",
    "target = df[\"Class\"].tolist()\n",
    "\n",
    "target_names = [\"0\", \"1\"]\n",
    "\n",
    "dataset = {\n",
    "   \"data\": dataArray,\n",
    "   \"target\": target,\n",
    "   \"feature_names\": columns_included,\n",
    "   \"target_names\": target_names\n",
    "}\n"
   ]
  },
  {
   "cell_type": "code",
   "execution_count": 4,
   "metadata": {},
   "outputs": [],
   "source": [
    "adaModel = AdaBoostClassifier(n_estimators = 200, learning_rate = 1) #too long if have too many weak estimators\n",
    "adaModel = adaModel.fit(dataset['data'],dataset['target'])     \n",
    "data_test_preprocessing = preprocessing.scale(df_test[columns_included].values)\n",
    "predictedTestResult = adaModel.predict(data_test_preprocessing)\n",
    "\n",
    "df_output = df_test[[\"index\"]]\n",
    "df_output.insert(1, \"Class\", predictedTestResult, True)\n",
    "df_output.to_csv(\"Adaboost.csv\", index=False)"
   ]
  }
 ],
 "metadata": {
  "kernelspec": {
   "display_name": "Python 3",
   "language": "python",
   "name": "python3"
  },
  "language_info": {
   "codemirror_mode": {
    "name": "ipython",
    "version": 3
   },
   "file_extension": ".py",
   "mimetype": "text/x-python",
   "name": "python",
   "nbconvert_exporter": "python",
   "pygments_lexer": "ipython3",
   "version": "3.10.7"
  },
  "orig_nbformat": 4,
  "vscode": {
   "interpreter": {
    "hash": "aee8b7b246df8f9039afb4144a1f6fd8d2ca17a180786b69acc140d282b71a49"
   }
  }
 },
 "nbformat": 4,
 "nbformat_minor": 2
}
