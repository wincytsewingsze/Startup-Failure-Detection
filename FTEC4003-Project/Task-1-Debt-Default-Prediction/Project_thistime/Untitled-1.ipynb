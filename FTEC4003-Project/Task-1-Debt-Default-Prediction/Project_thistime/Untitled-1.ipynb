{
 "cells": [
  {
   "cell_type": "code",
   "execution_count": 25,
   "metadata": {},
   "outputs": [],
   "source": [
    "from phase1.dataHandling import dataHandling\n",
    "from phase1.decisionTree import decisionTree\n",
    "from phase1.svm import svm"
   ]
  },
  {
   "cell_type": "code",
   "execution_count": 26,
   "metadata": {},
   "outputs": [],
   "source": [
    "attributes, actualClass = dataHandling.read_train()\n",
    "attributes_test, test_df = dataHandling.read_test()"
   ]
  },
  {
   "cell_type": "code",
   "execution_count": null,
   "metadata": {},
   "outputs": [],
   "source": [
    "tree = decisionTree()\n",
    "tree.trainModel(attributes,actualClass)\n",
    "results = tree.predict(attributes_test)\n",
    "dataHandling.results_to_csv(results,test_df,'result_tree.csv')\n",
    "tree.plot_tree()"
   ]
  },
  {
   "cell_type": "code",
   "execution_count": 28,
   "metadata": {},
   "outputs": [],
   "source": [
    "svm_model = svm()\n",
    "svm_model.trainModel(attributes,actualClass)\n",
    "results = svm_model.predict(attributes_test)\n",
    "dataHandling.results_to_csv(results,test_df,'result_svm.csv')"
   ]
  }
 ],
 "metadata": {
  "kernelspec": {
   "display_name": "Python 3",
   "language": "python",
   "name": "python3"
  },
  "language_info": {
   "codemirror_mode": {
    "name": "ipython",
    "version": 3
   },
   "file_extension": ".py",
   "mimetype": "text/x-python",
   "name": "python",
   "nbconvert_exporter": "python",
   "pygments_lexer": "ipython3",
   "version": "3.10.7 (v3.10.7:6cc6b13308, Sep  5 2022, 14:02:52) [Clang 13.0.0 (clang-1300.0.29.30)]"
  },
  "orig_nbformat": 4,
  "vscode": {
   "interpreter": {
    "hash": "aee8b7b246df8f9039afb4144a1f6fd8d2ca17a180786b69acc140d282b71a49"
   }
  }
 },
 "nbformat": 4,
 "nbformat_minor": 2
}
