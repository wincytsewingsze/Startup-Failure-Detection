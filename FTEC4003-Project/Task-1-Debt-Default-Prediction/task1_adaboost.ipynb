{
 "cells": [
  {
   "cell_type": "code",
   "execution_count": 354,
   "metadata": {},
   "outputs": [],
   "source": [
    "import numpy as np\n",
    "import pandas as pd\n",
    "from sklearn.ensemble import AdaBoostClassifier \n",
    "from sklearn import metrics, preprocessing\n",
    "from sklearn.preprocessing import StandardScaler\n",
    "import matplotlib.pyplot as plt"
   ]
  },
  {
   "cell_type": "code",
   "execution_count": 355,
   "metadata": {},
   "outputs": [
    {
     "data": {
      "text/html": [
       "<div>\n",
       "<style scoped>\n",
       "    .dataframe tbody tr th:only-of-type {\n",
       "        vertical-align: middle;\n",
       "    }\n",
       "\n",
       "    .dataframe tbody tr th {\n",
       "        vertical-align: top;\n",
       "    }\n",
       "\n",
       "    .dataframe thead th {\n",
       "        text-align: right;\n",
       "    }\n",
       "</style>\n",
       "<table border=\"1\" class=\"dataframe\">\n",
       "  <thead>\n",
       "    <tr style=\"text-align: right;\">\n",
       "      <th></th>\n",
       "      <th>index</th>\n",
       "      <th>EA1</th>\n",
       "      <th>EA2</th>\n",
       "      <th>EA3</th>\n",
       "      <th>EA4</th>\n",
       "      <th>EA5</th>\n",
       "      <th>EA6</th>\n",
       "    </tr>\n",
       "  </thead>\n",
       "  <tbody>\n",
       "    <tr>\n",
       "      <th>0</th>\n",
       "      <td>17354</td>\n",
       "      <td>-0.534913</td>\n",
       "      <td>0.550684</td>\n",
       "      <td>4.017561</td>\n",
       "      <td>3.254904</td>\n",
       "      <td>-0.919559</td>\n",
       "      <td>0.76</td>\n",
       "    </tr>\n",
       "    <tr>\n",
       "      <th>1</th>\n",
       "      <td>17355</td>\n",
       "      <td>-0.385155</td>\n",
       "      <td>0.831352</td>\n",
       "      <td>1.340407</td>\n",
       "      <td>-0.006471</td>\n",
       "      <td>-0.303723</td>\n",
       "      <td>91.93</td>\n",
       "    </tr>\n",
       "    <tr>\n",
       "      <th>2</th>\n",
       "      <td>17356</td>\n",
       "      <td>-0.412335</td>\n",
       "      <td>0.615746</td>\n",
       "      <td>-2.358232</td>\n",
       "      <td>-1.259382</td>\n",
       "      <td>2.783729</td>\n",
       "      <td>20.00</td>\n",
       "    </tr>\n",
       "    <tr>\n",
       "      <th>3</th>\n",
       "      <td>17357</td>\n",
       "      <td>2.012686</td>\n",
       "      <td>-0.158270</td>\n",
       "      <td>-1.064652</td>\n",
       "      <td>0.062409</td>\n",
       "      <td>0.073092</td>\n",
       "      <td>44.03</td>\n",
       "    </tr>\n",
       "    <tr>\n",
       "      <th>4</th>\n",
       "      <td>17358</td>\n",
       "      <td>-0.695848</td>\n",
       "      <td>-1.511682</td>\n",
       "      <td>1.489886</td>\n",
       "      <td>-1.733270</td>\n",
       "      <td>-1.767307</td>\n",
       "      <td>382.93</td>\n",
       "    </tr>\n",
       "  </tbody>\n",
       "</table>\n",
       "</div>"
      ],
      "text/plain": [
       "   index       EA1       EA2       EA3       EA4       EA5     EA6\n",
       "0  17354 -0.534913  0.550684  4.017561  3.254904 -0.919559    0.76\n",
       "1  17355 -0.385155  0.831352  1.340407 -0.006471 -0.303723   91.93\n",
       "2  17356 -0.412335  0.615746 -2.358232 -1.259382  2.783729   20.00\n",
       "3  17357  2.012686 -0.158270 -1.064652  0.062409  0.073092   44.03\n",
       "4  17358 -0.695848 -1.511682  1.489886 -1.733270 -1.767307  382.93"
      ]
     },
     "execution_count": 355,
     "metadata": {},
     "output_type": "execute_result"
    }
   ],
   "source": [
    "# Loading Dataset\n",
    "df = pd.read_csv(\"train.csv\")\n",
    "asm_test = pd.read_csv('assignment-test.csv')\n",
    "\n",
    "asm_test.head()"
   ]
  },
  {
   "cell_type": "code",
   "execution_count": 356,
   "metadata": {},
   "outputs": [],
   "source": [
    "# Randomly, split the data into test/training/validation sets\n",
    "train, test, validate = np.split(df.sample(frac=1), [int(.6*len(df)), int(.8*len(df))])\n",
    "\n",
    "# Separate target and predictors\n",
    "y_train = train['Class']\n",
    "x_train = train.drop(['Class'], axis=1)\n",
    "y_test = test['Class']\n",
    "x_test = test.drop(['Class'], axis=1)\n",
    "y_validate = validate['Class']\n",
    "x_validate = validate.drop(['Class'], axis=1)"
   ]
  },
  {
   "cell_type": "code",
   "execution_count": 357,
   "metadata": {},
   "outputs": [],
   "source": [
    "adaModel = AdaBoostClassifier(n_estimators = 100, learning_rate = 1.7) #too long if have too many weak estimators\n",
    "adaModel = adaModel.fit(x_train, y_train)   "
   ]
  },
  {
   "cell_type": "code",
   "execution_count": 358,
   "metadata": {},
   "outputs": [
    {
     "data": {
      "text/html": [
       "<div>\n",
       "<style scoped>\n",
       "    .dataframe tbody tr th:only-of-type {\n",
       "        vertical-align: middle;\n",
       "    }\n",
       "\n",
       "    .dataframe tbody tr th {\n",
       "        vertical-align: top;\n",
       "    }\n",
       "\n",
       "    .dataframe thead th {\n",
       "        text-align: right;\n",
       "    }\n",
       "</style>\n",
       "<table border=\"1\" class=\"dataframe\">\n",
       "  <thead>\n",
       "    <tr style=\"text-align: right;\">\n",
       "      <th></th>\n",
       "      <th>index</th>\n",
       "      <th>Class</th>\n",
       "    </tr>\n",
       "  </thead>\n",
       "  <tbody>\n",
       "    <tr>\n",
       "      <th>0</th>\n",
       "      <td>17354</td>\n",
       "      <td>0</td>\n",
       "    </tr>\n",
       "    <tr>\n",
       "      <th>1</th>\n",
       "      <td>17355</td>\n",
       "      <td>0</td>\n",
       "    </tr>\n",
       "    <tr>\n",
       "      <th>2</th>\n",
       "      <td>17356</td>\n",
       "      <td>0</td>\n",
       "    </tr>\n",
       "    <tr>\n",
       "      <th>3</th>\n",
       "      <td>17357</td>\n",
       "      <td>0</td>\n",
       "    </tr>\n",
       "    <tr>\n",
       "      <th>4</th>\n",
       "      <td>17358</td>\n",
       "      <td>0</td>\n",
       "    </tr>\n",
       "  </tbody>\n",
       "</table>\n",
       "</div>"
      ],
      "text/plain": [
       "   index  Class\n",
       "0  17354      0\n",
       "1  17355      0\n",
       "2  17356      0\n",
       "3  17357      0\n",
       "4  17358      0"
      ]
     },
     "execution_count": 358,
     "metadata": {},
     "output_type": "execute_result"
    }
   ],
   "source": [
    "prediction = pd.DataFrame(adaModel.predict(asm_test))\n",
    "# print(prediction)\n",
    "df_output = asm_test[[\"index\"]]\n",
    "df_output2 = df_output.assign(Class = prediction)\n",
    "df_output2.to_csv(\"adaboost.csv\")\n",
    "\n",
    "df_output2.head()"
   ]
  },
  {
   "cell_type": "code",
   "execution_count": 359,
   "metadata": {},
   "outputs": [
    {
     "data": {
      "image/png": "[encoded data removed]",
      "text/plain": [
       "<Figure size 640x480 with 1 Axes>"
      ]
     },
     "metadata": {},
     "output_type": "display_data"
    }
   ],
   "source": [
    "# # estimator_range = [50,100,150,200,250,300]\n",
    "# # scores = [0.6304347826086956, 0.7238095238095238, 0.7169811320754716, 0.6923076923076923, 0.7184466019417477, 0.6923076923076923, 0.7115384615384616]\n",
    "\n",
    "learningrate_nestimator = [0.01, 0.1, 1, 1.1, 1.5, 1.7, 2]\n",
    "scores_withnestimator = [0.5128205128205129, 0.6808510638297872, 0.7047619047619048, 0.7128712871287128, 0.7216494845360825,0.6721311475409836 , 0.11721611721611722 ]\n",
    "\n",
    "learningrate = [0.01, 0.1, 1, 1.1, 1.5, 1.7, 2]\n",
    "scores = [0.5185185185185185, 0.6736842105263158,0.6595744680851064, 0.7027027027027026, 0.7358490566037735, 0.736842105263158, 0.4545454545454545]\n",
    "\n",
    "# plt.figure(figsize=(9,6))\n",
    "# plt.plot(learningrate, scores)\n",
    "\n",
    "plt.plot(learningrate, scores_withnestimator, label = \"With estimator\")\n",
    "plt.plot(learningrate, scores, label = \"Without estimator\")\n",
    "plt.xlabel(\"n_estimators\")\n",
    "plt.ylabel(\"score\")\n",
    "\n",
    "plt.legend()\n",
    "plt.show()\n",
    "\n",
    "# plt.xlabel(\"n_estimators\", fontsize = 18)\n",
    "# plt.ylabel(\"score\", fontsize = 18)\n",
    "# plt.tick_params(labelsize = 16)\n",
    "\n",
    "# # Visualize plot\n",
    "# plt.show()\n"
   ]
  }
 ],
 "metadata": {
  "kernelspec": {
   "display_name": "Python 3",
   "language": "python",
   "name": "python3"
  },
  "language_info": {
   "codemirror_mode": {
    "name": "ipython",
    "version": 3
   },
   "file_extension": ".py",
   "mimetype": "text/x-python",
   "name": "python",
   "nbconvert_exporter": "python",
   "pygments_lexer": "ipython3",
   "version": "3.10.7 (v3.10.7:6cc6b13308, Sep  5 2022, 14:02:52) [Clang 13.0.0 (clang-1300.0.29.30)]"
  },
  "orig_nbformat": 4,
  "vscode": {
   "interpreter": {
    "hash": "aee8b7b246df8f9039afb4144a1f6fd8d2ca17a180786b69acc140d282b71a49"
   }
  }
 },
 "nbformat": 4,
 "nbformat_minor": 2
}
