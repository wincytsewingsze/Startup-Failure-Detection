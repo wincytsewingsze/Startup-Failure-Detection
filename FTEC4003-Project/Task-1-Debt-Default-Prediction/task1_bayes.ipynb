{
 "cells": [
  {
   "cell_type": "code",
   "execution_count": 54,
   "metadata": {},
   "outputs": [],
   "source": [
    "import numpy as np\n",
    "import pandas as pd\n",
    "from sklearn import naive_bayes\n",
    "import matplotlib as plt\n",
    "from sklearn.preprocessing import minmax_scale"
   ]
  },
  {
   "cell_type": "code",
   "execution_count": 55,
   "metadata": {},
   "outputs": [],
   "source": [
    "train = pd.read_csv(\"./train.csv\")\n",
    "props = train[[\"EA1\", \"EA2\", \"EA3\", \"EA4\", \"EA5\", \"EA6\"]]\n",
    "result = train[\"Class\"]"
   ]
  },
  {
   "cell_type": "code",
   "execution_count": 56,
   "metadata": {},
   "outputs": [],
   "source": [
    "clf = naive_bayes.GaussianNB()\n",
    "clf = clf.fit(props, result)"
   ]
  },
  {
   "cell_type": "code",
   "execution_count": 57,
   "metadata": {},
   "outputs": [],
   "source": [
    "test = pd.read_csv(\"./assignment-test.csv\")\n",
    "test_x = test[[\"EA1\", \"EA2\", \"EA3\", \"EA4\", \"EA5\", \"EA6\"]]\n",
    "predict = clf.predict(test_x)"
   ]
  },
  {
   "cell_type": "code",
   "execution_count": 58,
   "metadata": {},
   "outputs": [],
   "source": [
    "tmp = np.array(predict)\n",
    "tmp = tmp.reshape(len(predict), 1)"
   ]
  },
  {
   "cell_type": "code",
   "execution_count": 59,
   "metadata": {},
   "outputs": [],
   "source": [
    "prediction = pd.DataFrame(tmp, columns=[\"Class\"], dtype=int)\n",
    "df_output = test[[\"index\"]]\n",
    "df_output2 = df_output.assign(Class = prediction)\n",
    "df_output2.to_csv(\"bayes.csv\")"
   ]
  }
 ],
 "metadata": {
  "kernelspec": {
   "display_name": "Python 3",
   "language": "python",
   "name": "python3"
  },
  "language_info": {
   "codemirror_mode": {
    "name": "ipython",
    "version": 3
   },
   "file_extension": ".py",
   "mimetype": "text/x-python",
   "name": "python",
   "nbconvert_exporter": "python",
   "pygments_lexer": "ipython3",
   "version": "3.10.7"
  },
  "orig_nbformat": 4,
  "vscode": {
   "interpreter": {
    "hash": "aee8b7b246df8f9039afb4144a1f6fd8d2ca17a180786b69acc140d282b71a49"
   }
  }
 },
 "nbformat": 4,
 "nbformat_minor": 2
}
